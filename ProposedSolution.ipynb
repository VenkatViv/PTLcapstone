{
  "nbformat": 4,
  "nbformat_minor": 0,
  "metadata": {
    "colab": {
      "provenance": []
    },
    "kernelspec": {
      "name": "python3",
      "display_name": "Python 3"
    },
    "language_info": {
      "name": "python"
    }
  },
  "cells": [
    {
      "cell_type": "markdown",
      "source": [
        "# Imports & Installations"
      ],
      "metadata": {
        "id": "qD8YSIDJh3_T"
      }
    },
    {
      "cell_type": "code",
      "source": [
        "%pip install -i https://pypi.gurobi.com gurobipy"
      ],
      "metadata": {
        "id": "mV3dF53gh-5s"
      },
      "execution_count": null,
      "outputs": []
    },
    {
      "cell_type": "code",
      "source": [
        "import gurobipy as gp\n",
        "from gurobipy import GRB"
      ],
      "metadata": {
        "id": "_8Zm_r5oh6f3"
      },
      "execution_count": null,
      "outputs": []
    },
    {
      "cell_type": "code",
      "source": [
        "import numpy as np"
      ],
      "metadata": {
        "id": "0zWqfGfRh8H4"
      },
      "execution_count": null,
      "outputs": []
    },
    {
      "cell_type": "code",
      "source": [
        "from google.colab import drive\n",
        "\n",
        "drive.mount('/content/drive')"
      ],
      "metadata": {
        "id": "4wGm7pGBibwP"
      },
      "execution_count": null,
      "outputs": []
    },
    {
      "cell_type": "markdown",
      "source": [
        "# Helper Functions\n",
        "######Please feel free to add / create any additional functions that might help"
      ],
      "metadata": {
        "id": "lC9FNqbnjBOq"
      }
    },
    {
      "cell_type": "code",
      "execution_count": null,
      "metadata": {
        "id": "c2DwRNOI4YRf"
      },
      "outputs": [],
      "source": [
        "def getTechPreferences(file):\n",
        "  techfile = open(file, 'r')\n",
        "  file_lines = techfile.readlines()\n",
        "\n",
        "  # Creating the Preference List \n",
        "  pref = list(file_lines[0].strip(\"[\").strip(\"]\\n\").split(\", \"))\n",
        "  pref_list = []\n",
        "  for i in pref:\n",
        "    pref_list.append(int(i))\n",
        "  \n",
        "  # Mapping the Preference Pattern\n",
        "  pattern = file_lines[1].strip(\"\\n\")\n",
        "\n",
        "  file_lines.pop(0) # removing preference\n",
        "  file_lines.pop(0) # removing the shift pattern\n",
        "  file_lines.pop(0) # remove the \"\\n\" line before the scores \n",
        "  \n",
        "  #print(\"this is the first line now\", file_lines[0])\n",
        "\n",
        "  scores = []\n",
        "  shifts = []\n",
        "  # Accessing the Tech Scores\n",
        "  for line in file_lines:\n",
        "    if (int(file_lines.index(line)) % 2) ==0:\n",
        "      scores.append(int(line))\n",
        "    else:\n",
        "      shifts.append(list(line.strip(\"[\").strip(\"]\\n\").split(\", \")))\n",
        "\n",
        "  #Reformatting Shifts to Be Ints vs String\n",
        "  shift_list = []\n",
        "  for i in shifts:\n",
        "    current_shift = []\n",
        "    for j in i:\n",
        "      current_shift.append(int(j))\n",
        "    shift_list.append(current_shift)\n",
        "\n",
        "  return pref_list, pattern, scores, shift_list"
      ]
    },
    {
      "cell_type": "code",
      "source": [
        "def getDSMPrefs(file):\n",
        "  dsmFile = open(file, \"r\")\n",
        "  file_lines = dsmFile.readlines()\n",
        "\n",
        "  open_hours = list(file_lines[0].strip(\"[\").strip(\"]\\n\").split(\", \"))\n",
        "  print(\"open hours:\", open_hours)\n",
        "  #open_hours_start = int(open_hours[0])\n",
        "  #print(\"open_hours_start:\", open_hours_start)\n",
        "  #open_hours_end = int(open_hours[1])\n",
        "  #print(\"open_hours_end:\", open_hours_end)\n",
        "\n",
        "  max_techs_working = int(file_lines[1])\n",
        "  #print(\"max techs:\", max_techs_working)\n",
        "  min_techs_working = int(file_lines[2])\n",
        "  #print(\"min techs:\", min_techs_working)\n",
        "\n",
        "  return open_hours, max_techs_working, min_techs_working"
      ],
      "metadata": {
        "id": "0Z8-Pc8vl6Ct"
      },
      "execution_count": null,
      "outputs": []
    },
    {
      "cell_type": "code",
      "source": [
        "def CreateDSMFile(filepath, openhours, min_techs, max_techs): #Need to improve this later to account for max_techs PER time index\n",
        "  # Creating DSM File\n",
        "  filewrite = filepath\n",
        "  with open(filewrite, 'w') as f:\n",
        "  #open_hours = [[TimeIndex('Monday 6:30AM'),TimeIndex('Saturday 3:00PM')],[TimeIndex('Sunday 6:30AM'),TimeIndex('Sunday 3:00PM')]]\n",
        "  shop_hours_vector = 336*[0]\n",
        "  for o in open_hours:\n",
        "    for t in range(o[0],o[1]):\n",
        "      shop_hours_vector[t] = 1 \n",
        "  max_techs_working = min_tech\n",
        "  min_techs_working = max_techs\n",
        "  f.write(str(shop_hours_vector))\n",
        "  f.write(\"\\n\")\n",
        "  f.write(str(max_techs_working))\n",
        "  f.write(\"\\n\")\n",
        "  f.write(str(min_techs_working))\n"
      ],
      "metadata": {
        "id": "dIofnuPlkGXI"
      },
      "execution_count": null,
      "outputs": []
    },
    {
      "cell_type": "code",
      "source": [
        "def TechFIS(locNum, filepath, number_of_techs): \n",
        "  # returns the techfiles, tech information, and tech scores \n",
        "  techfiles = []\n",
        "  score_values = []\n",
        "  shift_vector_list = []\n",
        "  for i in range(1,number_of_techs +1):\n",
        "    #techfilename = '/content/drive/My Drive/PTL Capstone 2022-2023/Cleveland Tech Preferences/' + str(locNum)+ '_Tech'+ str(i)+ '.txt'\n",
        "    techfilename = str(filepath) + str(locNum) + '_Tech'+ str(i)+ '.txt'\n",
        "    techfiles.append(str(filename))\n",
        "\n",
        "  for file in techfiles:  \n",
        "    PL, pattern, scores, shift_vector = getTechPreferences(file)\n",
        "    score_values.append(scores)\n",
        "    shift_vector_list.append(shift_vector)\n",
        "\n",
        "  return score_values, shift_vector_list"
      ],
      "metadata": {
        "id": "S76b2OlEm0UQ"
      },
      "execution_count": null,
      "outputs": []
    },
    {
      "cell_type": "code",
      "source": [
        "def TimeIndex(datetime):\n",
        "  ''' Takes in a string argument such as Monday 9AM and converts into time index [0-336] ''' \n",
        "  TI = 0 #default is 'Monday 12AM' \n",
        "  dt = datetime.lower()\n",
        "  splitdt = dt.split()\n",
        "  # DAY OF THE WEEK \n",
        "  if splitdt[0] == 'monday':\n",
        "    TI += 0\n",
        "  if splitdt[0] == 'tuesday':\n",
        "    TI += 48\n",
        "  if splitdt[0] == 'wednesday':\n",
        "    TI += 48*2\n",
        "  if splitdt[0] == 'thursday':\n",
        "    TI += 48*3\n",
        "  if splitdt[0] == 'friday':\n",
        "    TI += 48*4\n",
        "  if splitdt[0] == 'saturday':\n",
        "    TI += 48*5\n",
        "  if splitdt[0] == 'sunday':\n",
        "    TI += 48*6\n",
        "  # AM OR PM\n",
        "  if splitdt[1][-2:] == 'pm':\n",
        "    TI += 24\n",
        "  # TIME\n",
        "  if splitdt[1][-4] == '3':#Half an hour is one index of time\n",
        "    TI += 1\n",
        "  if splitdt[1][-8:-5] != '12': # Midnight \n",
        "    TI += int(splitdt[1][-8:-5])*2\n",
        "  return TI"
      ],
      "metadata": {
        "id": "aGndfMwnjQfd"
      },
      "execution_count": null,
      "outputs": []
    },
    {
      "cell_type": "markdown",
      "source": [
        "# Shift Vector Generator"
      ],
      "metadata": {
        "id": "4X7hip5mlQNK"
      }
    },
    {
      "cell_type": "code",
      "source": [],
      "metadata": {
        "id": "2sLJYPImlUP0"
      },
      "execution_count": null,
      "outputs": []
    },
    {
      "cell_type": "markdown",
      "source": [
        "# Scoring Function"
      ],
      "metadata": {
        "id": "jGZq96GYlarv"
      }
    },
    {
      "cell_type": "code",
      "source": [
        "# COMPARE PREFERENCES WITH SHIFTS - SUPER BASIC DRAFT\n",
        "\n",
        "def calculate_mismatch(tech_pref, shift_pattern, open_close):\n",
        "    mismatch = 0\n",
        "    for i in range(len(tech_pref)):\n",
        "      if int(shift_pattern[i]) == 1:\n",
        "        if int(open_close[i])==0:\n",
        "          mismatch += 100\n",
        "        if int(tech_pref[i]) != int(shift_pattern[i]):\n",
        "            mismatch += 1\n",
        "    return mismatch\n",
        "    # Score is the number of mismatched "
      ],
      "metadata": {
        "id": "_xkqIh7_lcm4"
      },
      "execution_count": null,
      "outputs": []
    },
    {
      "cell_type": "code",
      "source": [
        "def tech_score(tech_pref_file, DSM_file):\n",
        "  \n",
        "  # Reading Technician Preference File\n",
        "  reading_tech_pref = open(tech_pref_file, 'r')\n",
        "  techfile_line = reading_tech_pref.readlines()\n",
        "  \n",
        "  # Reformating the Tech Preferences \n",
        "  tech_pref1 = techfile_line[0]\n",
        "  tech_pref = list(tech_pref1.strip(\"[\").strip(\"]\\n\").split(\", \"))\n",
        "\n",
        "  # Reading DSM File\n",
        "  reading_dsm_file = open(DSM_file, 'r')\n",
        "  DSMfile_line = reading_dsm_file.readlines()\n",
        "\n",
        "  # Reformatting Open/Close Pattern\n",
        "  open_close1 = DSMfile_line[0]\n",
        "  open_close = list(open_close1.strip(\"[\").strip(\"]\\n\").split(\", \"))\n",
        "  print(\"open_close1\", open_close1)\n",
        "  \n",
        "  var = techfile_line[1]\n",
        "  # Reading the Preferred Shift Type\n",
        "  if techfile_line[1] == '5x8':\n",
        "    shift_pattern_choosen ='/content/drive/My Drive/PTL Capstone 2022-2023/Schedule Vectors/5_8_SCHEDULE_VECTOR.txt'\n",
        "  if techfile_line[1] == '4x10':\n",
        "    shift_pattern_choosen ='/content/drive/My Drive/PTL Capstone 2022-2023/Schedule Vectors/4_10_SCHEDULE_VECTOR.txt'\n",
        "  if techfile_line[1] == '3x12':\n",
        "    shift_pattern_choosen = '/content/drive/My Drive/PTL Capstone 2022-2023/Schedule Vectors/3_12_SCHEDULE_VECTOR.txt'\n",
        "\n",
        "  # Looking at Shift Pattern \n",
        "  shift_pattern_choosen ='/content/drive/My Drive/PTL Capstone 2022-2023/Schedule Vectors/5_8_SCHEDULE_VECTOR.txt'\n",
        "  reading_files = open(shift_pattern_choosen, 'r')\n",
        "  file_line_list = reading_files.readlines()\n",
        "\n",
        "  with open(tech_pref_file, 'w') as f:\n",
        "    f.write(techfile_line[0])\n",
        "    f.write(techfile_line[1])\n",
        "    f.write(\"\\n\")\n",
        "    for shift in file_line_list:\n",
        "      shift_reformated = list(shift.strip(\"[\").strip(\"]\\n\").split(\", \"))\n",
        "      current_score = calculate_mismatch(tech_pref, shift_reformated, open_close)\n",
        "      print(\"current score\", current_close)\n",
        "      if current_score <=25:\n",
        "        f.write(str(current_score))\n",
        "        f.write(\"\\n\")\n",
        "        f.write(str(shift))\n",
        "        #f.write(\"\\n\")"
      ],
      "metadata": {
        "id": "ZH6qLY4HrffC"
      },
      "execution_count": null,
      "outputs": []
    },
    {
      "cell_type": "markdown",
      "source": [
        "# Schedule Optimzation "
      ],
      "metadata": {
        "id": "HAMkmUQilf_g"
      }
    },
    {
      "cell_type": "code",
      "source": [
        "def generateSchedule(locNum, number_of_techs, dsmFilepath, techfilepath ):\n",
        "\n",
        "  score_values, shift_vector_list = TechFIS(locNum, techfilepath, number_of_techs)\n",
        "\n",
        "  dsmFile = dsmFilePath\n",
        "  open_hours_vector, max_techs_working, min_techs_working = getDSMPrefs(dsmFile)\n",
        "\n",
        "############ Define Model ############\n",
        "  model = gp.Model()\n",
        "############ Decision Variables ############\n",
        "  x= model.addVars([(tech, shift) for tech in range(1, number_of_techs+1) for shift in range(0, len(score_values[tech-1]))], vtype = GRB.BINARY, name = 'x')\n",
        "  \n",
        "  ############ Objective Function #############\n",
        "  obj = gp.quicksum(x[tech,shift]*score_values[tech-1][shift] for tech in range(1,number_of_techs+1) for shift in range(0, len(score_values[tech-1])))\n",
        "  \n",
        "  # Set the objective to a minimize\n",
        "  model.setObjective(obj, GRB.MINIMIZE)\n",
        "\n",
        "  ############ Constraints ##############\n",
        "\n",
        "  # Each Tech Must be Assigned a Shift\n",
        "  for tech in range(1, number_of_techs+1):\n",
        "    model.addConstr(gp.quicksum(x[tech,shift] for shift in range(0, len(score_values[tech-1]))) ==1)\n",
        "\n",
        "  # There must be a minimum of 2 techs working while the shop is open\n",
        "  for time in range(len(open_hours_vector)):\n",
        "    if open_hours_vector[time] == '1':\n",
        "      model.addConstr(gp.quicksum(x[tech,shift]*shift_vector_list[tech-1][shift][time] for tech in range(1,number_of_techs+1) for shift in range(0,len(score_values[tech-1]))) >= min_techs_working)\n",
        "      #Create a Constraint for Max number of techs\n",
        "      model.addConstr(gp.quicksum(x[tech,shift]*shift_vector_list[tech-1][shift][time] for tech in range(1,number_of_techs+1) for shift in range(0,len(score_values[tech-1]))) <= max_techs_working)\n",
        "    \n",
        "  # Model is now completed and ready to optimzie\n",
        "  model.update()\n",
        "  model.optimize()"
      ],
      "metadata": {
        "id": "mtbDUoCjllqx"
      },
      "execution_count": null,
      "outputs": []
    }
  ]
}